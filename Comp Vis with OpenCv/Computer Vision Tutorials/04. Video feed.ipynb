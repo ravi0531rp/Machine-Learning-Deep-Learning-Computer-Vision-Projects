{
 "cells": [
  {
   "cell_type": "code",
   "execution_count": 1,
   "metadata": {},
   "outputs": [],
   "source": [
    "import numpy as np\n",
    "import cv2\n",
    "import matplotlib.pyplot as plt"
   ]
  },
  {
   "cell_type": "markdown",
   "metadata": {},
   "source": [
    "## u can use both ways"
   ]
  },
  {
   "cell_type": "code",
   "execution_count": 2,
   "metadata": {},
   "outputs": [],
   "source": [
    "cap=cv2.VideoCapture(0)\n",
    "while(True):\n",
    "    ret,frame=cap.read() # reads a new frame from feed\n",
    "    frame=cv2.resize(frame,(0,0),fx=0.5,fy=0.5)\n",
    "    cv2.imshow(\"frame\",frame)\n",
    "    #register a wait key\n",
    "    ch=cv2.waitKey(1) # 1ms \n",
    "    if ch & 0xFF ==ord('q'):\n",
    "        break\n",
    "cap.release()\n",
    "cv2.destroyAllWindows()"
   ]
  },
  {
   "cell_type": "code",
   "execution_count": 3,
   "metadata": {},
   "outputs": [],
   "source": [
    "cv2.namedWindow(\"preview\")\n",
    "vc = cv2.VideoCapture(0)\n",
    "\n",
    "if vc.isOpened(): # try to get the first frame\n",
    "    rval, frame = vc.read()\n",
    "else:\n",
    "    rval = False\n",
    "\n",
    "while rval:\n",
    "    cv2.imshow(\"preview\", frame)\n",
    "    rval, frame = vc.read()\n",
    "    key = cv2.waitKey(20)\n",
    "    if key == 27: # exit on ESC\n",
    "        break\n",
    "\n",
    "cv2.destroyWindow(\"preview\")\n",
    "vc.release()"
   ]
  },
  {
   "cell_type": "markdown",
   "metadata": {},
   "source": [
    "## create a circle on the location of click"
   ]
  },
  {
   "cell_type": "code",
   "execution_count": 4,
   "metadata": {},
   "outputs": [
    {
     "name": "stdout",
     "output_type": "stream",
     "text": [
      "pressed 143 125\n",
      "pressed 256 68\n",
      "pressed 157 148\n",
      "pressed 144 128\n",
      "pressed 177 152\n",
      "pressed 185 168\n"
     ]
    }
   ],
   "source": [
    "cap=cv2.VideoCapture(0)\n",
    "color=(0,255,0)  #color for our circle\n",
    "line_width=3\n",
    "rad=100\n",
    "point=(0,0)\n",
    "def click(event,x,y,flags,param):\n",
    "    global point,pressed\n",
    "    if event==cv2.EVENT_LBUTTONDOWN:\n",
    "        print(\"pressed\",x,y)\n",
    "        point=(x,y)\n",
    "        \n",
    "cv2.namedWindow(\"frame\")\n",
    "cv2.setMouseCallback(\"frame\",click)\n",
    "while(True):\n",
    "    ret,frame=cap.read() # reads a new frame from feed\n",
    "    frame=cv2.resize(frame,(0,0),fx=0.5,fy=0.5)\n",
    "    cv2.circle(frame,point,rad,color,line_width)\n",
    "    cv2.imshow(\"frame\",frame)\n",
    "    #register a wait key\n",
    "    ch=cv2.waitKey(1) # 1ms \n",
    "    if ch & 0xFF ==ord('q'):\n",
    "        break\n",
    "cap.release()\n",
    "cv2.destroyAllWindows()"
   ]
  },
  {
   "cell_type": "markdown",
   "metadata": {},
   "source": [
    "## Challenge drawing app"
   ]
  },
  {
   "cell_type": "code",
   "execution_count": 5,
   "metadata": {},
   "outputs": [],
   "source": [
    "canvas=np.ones([500,500,3],'uint8')*255\n",
    "radius=3\n",
    "color=(0,255,0)\n",
    "pressed=False\n"
   ]
  },
  {
   "cell_type": "code",
   "execution_count": 6,
   "metadata": {},
   "outputs": [],
   "source": [
    "def click(event,x,y,flags,param):\n",
    "    global canvas,pressed\n",
    "    if event==cv2.EVENT_LBUTTONDOWN:\n",
    "        pressed=True\n",
    "        cv2.circle(canvas,(x,y),radius,color,-1)\n",
    "        \n",
    "        \n",
    "    elif event==cv2.EVENT_MOUSEMOVE and pressed==True:\n",
    "        cv2.circle(canvas,(x,y),radius,color,-1)\n",
    "        \n",
    "    elif event==cv2.EVENT_LBUTTONUP:\n",
    "        pressed=False\n",
    "        \n",
    "        \n",
    "        \n",
    "cv2.namedWindow(\"canvas\")\n",
    "cv2.setMouseCallback(\"canvas\",click)\n",
    "\n",
    "while(True):\n",
    "    #ret,frame=cap.read() # reads a new frame from feed\n",
    "    #frame=cv2.resize(frame,(0,0),fx=0.5,fy=0.5)\n",
    "    #cv2.circle(frame,point,rad,color,line_width)\n",
    "    cv2.imshow(\"canvas\",canvas)\n",
    "    #register a wait key\n",
    "    ch=cv2.waitKey(1) # 1ms \n",
    "    if ch & 0xFF ==ord('q'):\n",
    "        break\n",
    "    elif ch &0xFF ==ord('b'):\n",
    "        color=(255,0,0)\n",
    "cap.release()\n",
    "cv2.destroyAllWindows()"
   ]
  },
  {
   "cell_type": "code",
   "execution_count": null,
   "metadata": {},
   "outputs": [],
   "source": []
  }
 ],
 "metadata": {
  "kernelspec": {
   "display_name": "Python 3",
   "language": "python",
   "name": "python3"
  },
  "language_info": {
   "codemirror_mode": {
    "name": "ipython",
    "version": 3
   },
   "file_extension": ".py",
   "mimetype": "text/x-python",
   "name": "python",
   "nbconvert_exporter": "python",
   "pygments_lexer": "ipython3",
   "version": "3.7.1"
  }
 },
 "nbformat": 4,
 "nbformat_minor": 2
}
